{
 "cells": [
  {
   "cell_type": "code",
   "execution_count": 1,
   "id": "0d9f6a0f-bde5-49a0-a93b-1b3eb9c0aac3",
   "metadata": {},
   "outputs": [],
   "source": [
    "import pandas as pd\n",
    "import numpy as np\n",
    "\n",
    "from sklearn.model_selection import train_test_split\n",
    "\n",
    "pd.set_option('display.max_columns', 100)\n",
    "#to set off the annoying copy warning\n",
    "#pd.set_option('mode.chained_assignment', None) #'warn'"
   ]
  },
  {
   "cell_type": "code",
   "execution_count": 2,
   "id": "44ebd364-cf29-4018-a3c4-bf37ef5ad14b",
   "metadata": {},
   "outputs": [],
   "source": [
    "#pwd"
   ]
  },
  {
   "cell_type": "code",
   "execution_count": 3,
   "id": "6e9f8131-bc97-4ff4-8c9c-5c2b5c558f38",
   "metadata": {},
   "outputs": [
    {
     "name": "stderr",
     "output_type": "stream",
     "text": [
      "C:\\Users\\migue\\anaconda3\\lib\\site-packages\\IPython\\core\\interactiveshell.py:3444: FutureWarning: In a future version of pandas all arguments of read_csv except for the argument 'filepath_or_buffer' will be keyword-only\n",
      "  exec(code_obj, self.user_global_ns, self.user_ns)\n"
     ]
    }
   ],
   "source": [
    "#Ocean data\n",
    "dfO_heat = pd.DataFrame()\n",
    "\n",
    "#dfO_acidity = pd.read_csv(r'C:\\Users\\migue\\Desktop\\OCEAN\\ocean-acidity_fig-1.csv', ',') #, encoding='latin-1') #bad sampling\n",
    "dfO_heat = pd.read_csv(r'C:\\Users\\migue\\Desktop\\OCEAN\\ocean-heat_fig-1.csv', ',')\n",
    "dfO_level = pd.read_csv(r'C:\\Users\\migue\\Desktop\\OCEAN\\sea-level_fig-1.csv', ',')\n",
    "dfO_temp = pd.read_csv(r'C:\\Users\\migue\\Desktop\\OCEAN\\sea-surface-temp_fig-1.csv', ',')\n",
    "\n",
    "#Change in latitute and depth of marine species\n",
    "#dfO_marine = pd.read_csv(r'C:\\Users\\migue\\Desktop\\OCEAN\\marine-species_fig-1.csv', ',')\n",
    "\n",
    "#Green House gasses\n",
    "dfA_gasses = pd.read_csv(r'C:\\Users\\migue\\Desktop\\OCEAN\\climate-forcing_fig-1.csv', ',')\n",
    "\n",
    "#Global temperatures : Do I need it?\n",
    "#dfG_means = pd.read_csv(r'C:\\Users\\migue\\Desktop\\OCEAN\\GLB.Ts+dSST.csv', ',')\n",
    "\n",
    "#next time try this for the utf8 error\n",
    "#('u.item', encoding='utf8', errors='ignore')"
   ]
  },
  {
   "cell_type": "code",
   "execution_count": 4,
   "id": "40c6f43e",
   "metadata": {},
   "outputs": [],
   "source": [
    "#Missing migrant data\n",
    "\n",
    "import glob\n",
    "#import pandas as pd\n",
    "\n",
    "df_Mig = pd.concat(map(pd.read_csv, glob.glob(r'C:\\Users\\migue\\Desktop\\OCEAN\\migration\\*.csv')))\n",
    "\n",
    "#list(dfMig_2021.columns)\n",
    "col_to_drop = ['Main ID', 'Incident ID', 'Region','Incident Date','Reported Month','Location of death',\n",
    "               'Information Source','Coordinates','Migrantion route','URL','UNSD Geographical Grouping','Source Quality']\n",
    "\n",
    "df_Mig = df_Mig.drop(columns = col_to_drop)\n",
    "#df_Mig"
   ]
  },
  {
   "cell_type": "code",
   "execution_count": 5,
   "id": "13e327cb",
   "metadata": {},
   "outputs": [],
   "source": [
    "def migration_historical_df(dataset):\n",
    "    migration_df = pd.DataFrame()\n",
    "    years = pd.unique(dataset['Year'])\n",
    "    \n",
    "    for year in years:\n",
    "        selected_year = dataset[dataset['Year'] == year]\n",
    "        year = selected_year.iloc[0]['Year']\n",
    "            \n",
    "        df_temp = pd.DataFrame()\n",
    "        temp_num = pd.DataFrame()\n",
    "        temp_cat = pd.DataFrame()\n",
    "        \n",
    "        col_class = list(selected_year.columns)\n",
    "        col_drop = ['Year']\n",
    "\n",
    "        for i in range(len(col_drop)):\n",
    "            col_d = (col_drop[i])\n",
    "            del_index = col_class.index(col_d) \n",
    "            del col_class[del_index]\n",
    "        \n",
    "        for col_name in col_class:\n",
    "            if selected_year[col_name].dtype == 'O':\n",
    "                temp_cat = temp_cat.append(selected_year[col_name])\n",
    "            else:\n",
    "                temp_num = temp_num.append(selected_year[col_name])\n",
    "    \n",
    "        temp_cat = temp_cat.T\n",
    "        col_cat = list(temp_cat.columns)\n",
    "        temp_num = temp_num.T\n",
    "        col_num = list(temp_num.columns)\n",
    "\n",
    "        likelihood = pd.DataFrame()\n",
    "        sums = pd.DataFrame()\n",
    "\n",
    "        df_temp['Year'] = [year]\n",
    "\n",
    "        for colName in col_num:\n",
    "            sum_col = temp_num[colName].sum()\n",
    "            sums[colName] = [sum_col]\n",
    "\n",
    "        df_temp = pd.concat([df_temp, sums], axis=1)\n",
    "    \n",
    "        for colName in col_cat:             \n",
    "            #for a global non specific likelihood\n",
    "            value_counts = temp_cat[colName].value_counts() #[:2] #colName\n",
    "            val_counts = pd.DataFrame(value_counts)\n",
    "            likelihood = val_counts.reset_index()\n",
    "            likelihood = likelihood.T\n",
    "            likelihood.columns = likelihood.iloc[0]\n",
    "            likelihood = likelihood.drop(labels='index', axis=0)\n",
    "            likelihood.reset_index(drop=True, inplace=True)\n",
    "            likelihood = likelihood.add_suffix(f\" |{colName}\") #colName\n",
    "            sum_like = float(likelihood.sum(axis=1))\n",
    "\n",
    "        for col in likelihood.columns:\n",
    "            like = 0\n",
    "            like = likelihood.iloc[0][col] / sum_like\n",
    "            likelihood[col][0] = like\n",
    "\n",
    "        df_temp = pd.concat([df_temp, likelihood], axis=1)\n",
    "    \n",
    "        migration_df = migration_df.append(df_temp)\n",
    "    \n",
    "    return migration_df"
   ]
  },
  {
   "cell_type": "code",
   "execution_count": 6,
   "id": "41071b49",
   "metadata": {},
   "outputs": [],
   "source": [
    "df_migration = migration_historical_df(df_Mig)"
   ]
  },
  {
   "cell_type": "code",
   "execution_count": 7,
   "id": "66cdf0fb",
   "metadata": {},
   "outputs": [
    {
     "name": "stderr",
     "output_type": "stream",
     "text": [
      "C:\\Users\\migue\\AppData\\Local\\Temp/ipykernel_17256/1055578193.py:12: FutureWarning: In a future version of pandas all arguments of DataFrame.drop except for the argument 'labels' will be keyword-only\n",
      "  dfO_heat = dfO_heat.drop(dfO_heat_col2, 1)\n"
     ]
    }
   ],
   "source": [
    "#heat mean\n",
    "dfO_heat['Year'] = dfO_heat['Year'].astype(int)\n",
    "\n",
    "dfO_heat_col = list(dfO_heat.columns)\n",
    "del dfO_heat_col[0]\n",
    "del dfO_heat_col[0]\n",
    "dfO_heat['ocean heat mean'] = dfO_heat.loc[:, dfO_heat_col].mean(axis=1)\n",
    "\n",
    "dfO_heat_col2 = list(dfO_heat.columns)\n",
    "del dfO_heat_col2[0]\n",
    "del dfO_heat_col2[-1]\n",
    "dfO_heat = dfO_heat.drop(dfO_heat_col2, 1)"
   ]
  },
  {
   "cell_type": "code",
   "execution_count": 8,
   "id": "75c1badb",
   "metadata": {},
   "outputs": [
    {
     "name": "stderr",
     "output_type": "stream",
     "text": [
      "C:\\Users\\migue\\AppData\\Local\\Temp/ipykernel_17256/166758784.py:10: FutureWarning: In a future version of pandas all arguments of DataFrame.drop except for the argument 'labels' will be keyword-only\n",
      "  dfO_level = dfO_level.drop(dfO_level_col2, 1)\n"
     ]
    }
   ],
   "source": [
    "dfO_level['Year'] = dfO_level['Year'].astype(int)\n",
    "\n",
    "dfO_level_col = list(dfO_level.columns)\n",
    "del dfO_level_col[0]\n",
    "dfO_level['ocean level mean'] = dfO_level.loc[:, dfO_level_col].mean(skipna=True, axis=1)\n",
    "\n",
    "dfO_level_col2 = list(dfO_level.columns)\n",
    "del dfO_level_col2[0]\n",
    "del dfO_level_col2[-1]\n",
    "dfO_level = dfO_level.drop(dfO_level_col2, 1)"
   ]
  },
  {
   "cell_type": "code",
   "execution_count": 9,
   "id": "72b321ad",
   "metadata": {},
   "outputs": [
    {
     "name": "stderr",
     "output_type": "stream",
     "text": [
      "C:\\Users\\migue\\AppData\\Local\\Temp/ipykernel_17256/802947117.py:10: FutureWarning: In a future version of pandas all arguments of DataFrame.drop except for the argument 'labels' will be keyword-only\n",
      "  dfO_temp = dfO_temp.drop(dfO_temp_col2, 1)\n"
     ]
    }
   ],
   "source": [
    "dfO_temp['Year'] = dfO_temp['Year'].astype(int)\n",
    "\n",
    "dfO_temp_col = list(dfO_temp.columns)\n",
    "del dfO_temp_col[0]\n",
    "dfO_temp['ocean temp mean'] = dfO_temp.loc[:, dfO_temp_col].mean(skipna=True, axis=1)\n",
    "\n",
    "dfO_temp_col2 = list(dfO_temp.columns)\n",
    "del dfO_temp_col2[0]\n",
    "del dfO_temp_col2[-1]\n",
    "dfO_temp = dfO_temp.drop(dfO_temp_col2, 1)\n"
   ]
  },
  {
   "cell_type": "code",
   "execution_count": 10,
   "id": "f25f8b1b-e2ff-450f-8390-a1250584ebea",
   "metadata": {},
   "outputs": [],
   "source": [
    "years = pd.unique(dfO_heat['Year'])\n",
    "years = np.append(years, '2021')\n",
    "\n",
    "df_ocean = pd.DataFrame()\n",
    "df_ocean = df_ocean.assign(Year = years)\n",
    "df_ocean['Year'] = df_ocean['Year'].astype(int)"
   ]
  },
  {
   "cell_type": "code",
   "execution_count": 11,
   "id": "db455700-6471-47e9-b702-655578373063",
   "metadata": {},
   "outputs": [],
   "source": [
    "#Merge DataFrames\n",
    "df_ocean = pd.merge(df_ocean, dfO_heat, on='Year')\n",
    "df_ocean = pd.merge(df_ocean, dfO_level, on='Year')\n",
    "df_ocean = pd.merge(df_ocean, dfO_temp, on='Year')\n",
    "df_ocean = pd.merge(df_ocean, dfA_gasses, on='Year') "
   ]
  },
  {
   "cell_type": "code",
   "execution_count": 12,
   "id": "9a01c3ba-0d6e-4916-97ee-2712b715e9db",
   "metadata": {},
   "outputs": [
    {
     "data": {
      "text/html": [
       "<div>\n",
       "<style scoped>\n",
       "    .dataframe tbody tr th:only-of-type {\n",
       "        vertical-align: middle;\n",
       "    }\n",
       "\n",
       "    .dataframe tbody tr th {\n",
       "        vertical-align: top;\n",
       "    }\n",
       "\n",
       "    .dataframe thead th {\n",
       "        text-align: right;\n",
       "    }\n",
       "</style>\n",
       "<table border=\"1\" class=\"dataframe\">\n",
       "  <thead>\n",
       "    <tr style=\"text-align: right;\">\n",
       "      <th></th>\n",
       "      <th>Year</th>\n",
       "      <th>ocean heat mean</th>\n",
       "      <th>ocean level mean</th>\n",
       "      <th>ocean temp mean</th>\n",
       "      <th>Carbon dioxide</th>\n",
       "      <th>Methane</th>\n",
       "      <th>Nitrous oxide</th>\n",
       "      <th>CFC-12</th>\n",
       "      <th>CFC-11</th>\n",
       "      <th>15 other gases</th>\n",
       "    </tr>\n",
       "  </thead>\n",
       "  <tbody>\n",
       "    <tr>\n",
       "      <th>0</th>\n",
       "      <td>1979</td>\n",
       "      <td>-1.705333</td>\n",
       "      <td>5.362205</td>\n",
       "      <td>0.048</td>\n",
       "      <td>1.027</td>\n",
       "      <td>0.406</td>\n",
       "      <td>0.104</td>\n",
       "      <td>0.092</td>\n",
       "      <td>0.040</td>\n",
       "      <td>0.031</td>\n",
       "    </tr>\n",
       "    <tr>\n",
       "      <th>1</th>\n",
       "      <td>1980</td>\n",
       "      <td>-0.388333</td>\n",
       "      <td>5.598425</td>\n",
       "      <td>0.066</td>\n",
       "      <td>1.058</td>\n",
       "      <td>0.413</td>\n",
       "      <td>0.104</td>\n",
       "      <td>0.097</td>\n",
       "      <td>0.042</td>\n",
       "      <td>0.034</td>\n",
       "    </tr>\n",
       "    <tr>\n",
       "      <th>2</th>\n",
       "      <td>1981</td>\n",
       "      <td>-0.174667</td>\n",
       "      <td>6.086614</td>\n",
       "      <td>-0.006</td>\n",
       "      <td>1.077</td>\n",
       "      <td>0.420</td>\n",
       "      <td>0.107</td>\n",
       "      <td>0.102</td>\n",
       "      <td>0.044</td>\n",
       "      <td>0.036</td>\n",
       "    </tr>\n",
       "    <tr>\n",
       "      <th>3</th>\n",
       "      <td>1982</td>\n",
       "      <td>-1.551000</td>\n",
       "      <td>5.858268</td>\n",
       "      <td>-0.006</td>\n",
       "      <td>1.089</td>\n",
       "      <td>0.426</td>\n",
       "      <td>0.111</td>\n",
       "      <td>0.107</td>\n",
       "      <td>0.046</td>\n",
       "      <td>0.038</td>\n",
       "    </tr>\n",
       "    <tr>\n",
       "      <th>4</th>\n",
       "      <td>1983</td>\n",
       "      <td>-2.430000</td>\n",
       "      <td>6.188976</td>\n",
       "      <td>0.138</td>\n",
       "      <td>1.115</td>\n",
       "      <td>0.429</td>\n",
       "      <td>0.113</td>\n",
       "      <td>0.113</td>\n",
       "      <td>0.048</td>\n",
       "      <td>0.041</td>\n",
       "    </tr>\n",
       "  </tbody>\n",
       "</table>\n",
       "</div>"
      ],
      "text/plain": [
       "   Year  ocean heat mean  ocean level mean  ocean temp mean  Carbon dioxide  \\\n",
       "0  1979        -1.705333          5.362205            0.048           1.027   \n",
       "1  1980        -0.388333          5.598425            0.066           1.058   \n",
       "2  1981        -0.174667          6.086614           -0.006           1.077   \n",
       "3  1982        -1.551000          5.858268           -0.006           1.089   \n",
       "4  1983        -2.430000          6.188976            0.138           1.115   \n",
       "\n",
       "   Methane  Nitrous oxide  CFC-12  CFC-11  15 other gases  \n",
       "0    0.406          0.104   0.092   0.040           0.031  \n",
       "1    0.413          0.104   0.097   0.042           0.034  \n",
       "2    0.420          0.107   0.102   0.044           0.036  \n",
       "3    0.426          0.111   0.107   0.046           0.038  \n",
       "4    0.429          0.113   0.113   0.048           0.041  "
      ]
     },
     "execution_count": 12,
     "metadata": {},
     "output_type": "execute_result"
    }
   ],
   "source": [
    "df_ocean.head()"
   ]
  },
  {
   "cell_type": "code",
   "execution_count": 13,
   "id": "16606d0d-a8db-4d2e-93de-db36a8eb2ac2",
   "metadata": {},
   "outputs": [
    {
     "data": {
      "text/html": [
       "<div>\n",
       "<style scoped>\n",
       "    .dataframe tbody tr th:only-of-type {\n",
       "        vertical-align: middle;\n",
       "    }\n",
       "\n",
       "    .dataframe tbody tr th {\n",
       "        vertical-align: top;\n",
       "    }\n",
       "\n",
       "    .dataframe thead th {\n",
       "        text-align: right;\n",
       "    }\n",
       "</style>\n",
       "<table border=\"1\" class=\"dataframe\">\n",
       "  <thead>\n",
       "    <tr style=\"text-align: right;\">\n",
       "      <th></th>\n",
       "      <th>Year</th>\n",
       "      <th>ocean heat mean</th>\n",
       "      <th>ocean level mean</th>\n",
       "      <th>ocean temp mean</th>\n",
       "      <th>Carbon dioxide</th>\n",
       "      <th>Methane</th>\n",
       "      <th>Nitrous oxide</th>\n",
       "      <th>CFC-12</th>\n",
       "      <th>CFC-11</th>\n",
       "      <th>15 other gases</th>\n",
       "    </tr>\n",
       "  </thead>\n",
       "  <tbody>\n",
       "    <tr>\n",
       "      <th>0</th>\n",
       "      <td>1979</td>\n",
       "      <td>0.035300</td>\n",
       "      <td>0.000000</td>\n",
       "      <td>0.155172</td>\n",
       "      <td>0.000000</td>\n",
       "      <td>0.000000</td>\n",
       "      <td>0.000000</td>\n",
       "      <td>0.000000</td>\n",
       "      <td>0.000000</td>\n",
       "      <td>0.000000</td>\n",
       "    </tr>\n",
       "    <tr>\n",
       "      <th>1</th>\n",
       "      <td>1980</td>\n",
       "      <td>0.099454</td>\n",
       "      <td>0.057375</td>\n",
       "      <td>0.172414</td>\n",
       "      <td>0.029552</td>\n",
       "      <td>0.063636</td>\n",
       "      <td>0.000000</td>\n",
       "      <td>0.060976</td>\n",
       "      <td>0.074074</td>\n",
       "      <td>0.030612</td>\n",
       "    </tr>\n",
       "    <tr>\n",
       "      <th>2</th>\n",
       "      <td>1981</td>\n",
       "      <td>0.109863</td>\n",
       "      <td>0.175950</td>\n",
       "      <td>0.103448</td>\n",
       "      <td>0.047664</td>\n",
       "      <td>0.127273</td>\n",
       "      <td>0.030612</td>\n",
       "      <td>0.121951</td>\n",
       "      <td>0.148148</td>\n",
       "      <td>0.051020</td>\n",
       "    </tr>\n",
       "    <tr>\n",
       "      <th>3</th>\n",
       "      <td>1982</td>\n",
       "      <td>0.042818</td>\n",
       "      <td>0.120488</td>\n",
       "      <td>0.103448</td>\n",
       "      <td>0.059104</td>\n",
       "      <td>0.181818</td>\n",
       "      <td>0.071429</td>\n",
       "      <td>0.182927</td>\n",
       "      <td>0.222222</td>\n",
       "      <td>0.071429</td>\n",
       "    </tr>\n",
       "    <tr>\n",
       "      <th>4</th>\n",
       "      <td>1983</td>\n",
       "      <td>0.000000</td>\n",
       "      <td>0.200813</td>\n",
       "      <td>0.241379</td>\n",
       "      <td>0.083889</td>\n",
       "      <td>0.209091</td>\n",
       "      <td>0.091837</td>\n",
       "      <td>0.256098</td>\n",
       "      <td>0.296296</td>\n",
       "      <td>0.102041</td>\n",
       "    </tr>\n",
       "  </tbody>\n",
       "</table>\n",
       "</div>"
      ],
      "text/plain": [
       "   Year  ocean heat mean  ocean level mean  ocean temp mean  Carbon dioxide  \\\n",
       "0  1979         0.035300          0.000000         0.155172        0.000000   \n",
       "1  1980         0.099454          0.057375         0.172414        0.029552   \n",
       "2  1981         0.109863          0.175950         0.103448        0.047664   \n",
       "3  1982         0.042818          0.120488         0.103448        0.059104   \n",
       "4  1983         0.000000          0.200813         0.241379        0.083889   \n",
       "\n",
       "    Methane  Nitrous oxide    CFC-12    CFC-11  15 other gases  \n",
       "0  0.000000       0.000000  0.000000  0.000000        0.000000  \n",
       "1  0.063636       0.000000  0.060976  0.074074        0.030612  \n",
       "2  0.127273       0.030612  0.121951  0.148148        0.051020  \n",
       "3  0.181818       0.071429  0.182927  0.222222        0.071429  \n",
       "4  0.209091       0.091837  0.256098  0.296296        0.102041  "
      ]
     },
     "execution_count": 13,
     "metadata": {},
     "output_type": "execute_result"
    }
   ],
   "source": [
    "dfO_norm = df_ocean.copy()\n",
    "\n",
    "# apply normalization techniques by Column 1\n",
    "columns_to_norm = list(dfO_norm.columns)\n",
    "del columns_to_norm[0]\n",
    "\n",
    "for col in columns_to_norm:\n",
    "    dfO_norm[col] = (dfO_norm[col] - dfO_norm[col].min()) / (dfO_norm[col].max() - dfO_norm[col].min())    \n",
    "\n",
    "dfO_norm.head()"
   ]
  },
  {
   "cell_type": "code",
   "execution_count": null,
   "id": "2ce92563-f2b5-4935-ba29-6ecf297a0a19",
   "metadata": {},
   "outputs": [],
   "source": []
  },
  {
   "cell_type": "code",
   "execution_count": 14,
   "id": "1f2d70f1-c585-4250-bf0a-ca4cb42a7476",
   "metadata": {},
   "outputs": [],
   "source": [
    "import matplotlib.pyplot as plt"
   ]
  },
  {
   "cell_type": "markdown",
   "id": "533497f0-b858-446a-9fa0-3086f27fd593",
   "metadata": {},
   "source": [
    "Investigative plotting"
   ]
  },
  {
   "cell_type": "code",
   "execution_count": 15,
   "id": "7995a23c-ad43-4e11-ad4a-d22a0da4cf6d",
   "metadata": {},
   "outputs": [
    {
     "data": {
      "image/png": "[encoded data removed]",
      "text/plain": [
       "<Figure size 432x288 with 1 Axes>"
      ]
     },
     "metadata": {
      "needs_background": "light"
     },
     "output_type": "display_data"
    }
   ],
   "source": [
    "plt.title('Scatter plot of the Distribution of data of ...')\n",
    "plt.scatter(dfO_norm['ocean heat mean'], dfO_norm['ocean level mean'], color='red')\n",
    "plt.scatter(dfO_norm['ocean temp mean'], dfO_norm['ocean level mean'])\n",
    "plt.xlabel('ocean heat/temp mean')\n",
    "plt.ylabel('ocean level mean')\n",
    "plt.show()"
   ]
  },
  {
   "cell_type": "code",
   "execution_count": 16,
   "id": "30b7980e-9893-492c-bf5e-81eedbcf3e85",
   "metadata": {},
   "outputs": [
    {
     "data": {
      "image/png": "[encoded data removed]",
      "text/plain": [
       "<Figure size 432x288 with 1 Axes>"
      ]
     },
     "metadata": {
      "needs_background": "light"
     },
     "output_type": "display_data"
    }
   ],
   "source": [
    "plt.title('Scatter plot of the Distribution of data of ...')\n",
    "plt.scatter(dfO_norm['ocean heat mean'], dfO_norm['Carbon dioxide'], color = 'red')\n",
    "plt.scatter(dfO_norm['ocean temp mean'], dfO_norm['Carbon dioxide'])\n",
    "plt.xlabel('ocean heat/temp mean')\n",
    "plt.ylabel('Carbon dioxide')\n",
    "plt.show()"
   ]
  },
  {
   "cell_type": "code",
   "execution_count": 17,
   "id": "6ffa9611-a1da-487f-9669-349578bdbb28",
   "metadata": {},
   "outputs": [
    {
     "data": {
      "image/png": "[encoded data removed]",
      "text/plain": [
       "<Figure size 432x288 with 1 Axes>"
      ]
     },
     "metadata": {
      "needs_background": "light"
     },
     "output_type": "display_data"
    }
   ],
   "source": [
    "plt.title('Scatter plot of the Distribution of data of ...')\n",
    "plt.scatter(dfO_norm['ocean heat mean'], dfO_norm['Methane'], color = 'red')\n",
    "plt.scatter(dfO_norm['ocean temp mean'], dfO_norm['Methane'])\n",
    "plt.xlabel('ocean heat/temp mean')\n",
    "plt.ylabel('Methane')\n",
    "plt.show()"
   ]
  },
  {
   "cell_type": "code",
   "execution_count": 18,
   "id": "7de21785-4fe1-4e7c-8663-d800b38f7bac",
   "metadata": {},
   "outputs": [
    {
     "data": {
      "image/png": "[encoded data removed]",
      "text/plain": [
       "<Figure size 432x288 with 1 Axes>"
      ]
     },
     "metadata": {
      "needs_background": "light"
     },
     "output_type": "display_data"
    }
   ],
   "source": [
    "plt.title('Scatter plot of the Distribution of data of ...')\n",
    "plt.scatter(dfO_norm['ocean heat mean'], dfO_norm['CFC-12'], color = 'red')\n",
    "plt.scatter(dfO_norm['ocean temp mean'], dfO_norm['CFC-12'])\n",
    "plt.xlabel('ocean heat/temp mean')\n",
    "plt.ylabel('CFC-12')\n",
    "plt.show()"
   ]
  },
  {
   "cell_type": "code",
   "execution_count": 19,
   "id": "47a290a7-3145-4bdb-9820-eaa4fb7652f4",
   "metadata": {},
   "outputs": [
    {
     "data": {
      "image/png": "[encoded data removed]",
      "text/plain": [
       "<Figure size 432x288 with 1 Axes>"
      ]
     },
     "metadata": {
      "needs_background": "light"
     },
     "output_type": "display_data"
    }
   ],
   "source": [
    "plt.title('Scatter plot of the Distribution of data of ...')\n",
    "plt.scatter(dfO_norm['ocean heat mean'], dfO_norm['CFC-11'], color = 'red')\n",
    "plt.scatter(dfO_norm['ocean temp mean'], dfO_norm['CFC-11'])\n",
    "plt.xlabel('ocean temp mean')\n",
    "plt.ylabel('CFC-11')\n",
    "plt.show()"
   ]
  },
  {
   "cell_type": "code",
   "execution_count": 20,
   "id": "d5b8d009-1665-43e2-bf40-2dc72791a431",
   "metadata": {},
   "outputs": [
    {
     "data": {
      "image/png": "[encoded data removed]",
      "text/plain": [
       "<Figure size 432x288 with 1 Axes>"
      ]
     },
     "metadata": {
      "needs_background": "light"
     },
     "output_type": "display_data"
    }
   ],
   "source": [
    "plt.plot(dfO_norm['ocean temp mean'])\n",
    "plt.plot(dfO_norm['ocean heat mean'], color = 'red')\n",
    "plt.plot(dfO_norm['ocean level mean'], color = 'green')\n",
    "plt.show()"
   ]
  },
  {
   "cell_type": "code",
   "execution_count": 21,
   "id": "aa078cb4-8fc5-4ba8-88c9-5ad77eba9666",
   "metadata": {},
   "outputs": [],
   "source": [
    "#Multiple linear regression"
   ]
  },
  {
   "cell_type": "code",
   "execution_count": 22,
   "id": "c4d27b96-1a7f-4ef1-a920-8c86375005dc",
   "metadata": {},
   "outputs": [
    {
     "data": {
      "text/html": [
       "<div>\n",
       "<style scoped>\n",
       "    .dataframe tbody tr th:only-of-type {\n",
       "        vertical-align: middle;\n",
       "    }\n",
       "\n",
       "    .dataframe tbody tr th {\n",
       "        vertical-align: top;\n",
       "    }\n",
       "\n",
       "    .dataframe thead th {\n",
       "        text-align: right;\n",
       "    }\n",
       "</style>\n",
       "<table border=\"1\" class=\"dataframe\">\n",
       "  <thead>\n",
       "    <tr style=\"text-align: right;\">\n",
       "      <th></th>\n",
       "      <th>Year</th>\n",
       "      <th>ocean heat mean</th>\n",
       "      <th>ocean level mean</th>\n",
       "      <th>ocean temp mean</th>\n",
       "      <th>Carbon dioxide</th>\n",
       "      <th>Methane</th>\n",
       "      <th>Nitrous oxide</th>\n",
       "      <th>CFC-12</th>\n",
       "      <th>CFC-11</th>\n",
       "      <th>15 other gases</th>\n",
       "    </tr>\n",
       "  </thead>\n",
       "  <tbody>\n",
       "    <tr>\n",
       "      <th>0</th>\n",
       "      <td>1979</td>\n",
       "      <td>0.035300</td>\n",
       "      <td>0.000000</td>\n",
       "      <td>0.155172</td>\n",
       "      <td>0.000000</td>\n",
       "      <td>0.000000</td>\n",
       "      <td>0.000000</td>\n",
       "      <td>0.000000</td>\n",
       "      <td>0.000000</td>\n",
       "      <td>0.000000</td>\n",
       "    </tr>\n",
       "    <tr>\n",
       "      <th>1</th>\n",
       "      <td>1980</td>\n",
       "      <td>0.099454</td>\n",
       "      <td>0.057375</td>\n",
       "      <td>0.172414</td>\n",
       "      <td>0.029552</td>\n",
       "      <td>0.063636</td>\n",
       "      <td>0.000000</td>\n",
       "      <td>0.060976</td>\n",
       "      <td>0.074074</td>\n",
       "      <td>0.030612</td>\n",
       "    </tr>\n",
       "    <tr>\n",
       "      <th>2</th>\n",
       "      <td>1981</td>\n",
       "      <td>0.109863</td>\n",
       "      <td>0.175950</td>\n",
       "      <td>0.103448</td>\n",
       "      <td>0.047664</td>\n",
       "      <td>0.127273</td>\n",
       "      <td>0.030612</td>\n",
       "      <td>0.121951</td>\n",
       "      <td>0.148148</td>\n",
       "      <td>0.051020</td>\n",
       "    </tr>\n",
       "    <tr>\n",
       "      <th>3</th>\n",
       "      <td>1982</td>\n",
       "      <td>0.042818</td>\n",
       "      <td>0.120488</td>\n",
       "      <td>0.103448</td>\n",
       "      <td>0.059104</td>\n",
       "      <td>0.181818</td>\n",
       "      <td>0.071429</td>\n",
       "      <td>0.182927</td>\n",
       "      <td>0.222222</td>\n",
       "      <td>0.071429</td>\n",
       "    </tr>\n",
       "    <tr>\n",
       "      <th>4</th>\n",
       "      <td>1983</td>\n",
       "      <td>0.000000</td>\n",
       "      <td>0.200813</td>\n",
       "      <td>0.241379</td>\n",
       "      <td>0.083889</td>\n",
       "      <td>0.209091</td>\n",
       "      <td>0.091837</td>\n",
       "      <td>0.256098</td>\n",
       "      <td>0.296296</td>\n",
       "      <td>0.102041</td>\n",
       "    </tr>\n",
       "  </tbody>\n",
       "</table>\n",
       "</div>"
      ],
      "text/plain": [
       "   Year  ocean heat mean  ocean level mean  ocean temp mean  Carbon dioxide  \\\n",
       "0  1979         0.035300          0.000000         0.155172        0.000000   \n",
       "1  1980         0.099454          0.057375         0.172414        0.029552   \n",
       "2  1981         0.109863          0.175950         0.103448        0.047664   \n",
       "3  1982         0.042818          0.120488         0.103448        0.059104   \n",
       "4  1983         0.000000          0.200813         0.241379        0.083889   \n",
       "\n",
       "    Methane  Nitrous oxide    CFC-12    CFC-11  15 other gases  \n",
       "0  0.000000       0.000000  0.000000  0.000000        0.000000  \n",
       "1  0.063636       0.000000  0.060976  0.074074        0.030612  \n",
       "2  0.127273       0.030612  0.121951  0.148148        0.051020  \n",
       "3  0.181818       0.071429  0.182927  0.222222        0.071429  \n",
       "4  0.209091       0.091837  0.256098  0.296296        0.102041  "
      ]
     },
     "execution_count": 22,
     "metadata": {},
     "output_type": "execute_result"
    }
   ],
   "source": [
    "#dfO_norm.to_csv('oceanNormData.csv')\n",
    "dfO_norm.head()"
   ]
  },
  {
   "cell_type": "code",
   "execution_count": 23,
   "id": "13831403-2ca2-414f-9ea6-6779c39e3eee",
   "metadata": {},
   "outputs": [],
   "source": [
    "#separate the other attributes from the predicting attribute\n",
    "X = dfO_norm.drop(['Year', 'ocean level mean'],axis=1)\n",
    "#separte the predicting attribute into Y for model training \n",
    "y = dfO_norm['ocean level mean']"
   ]
  },
  {
   "cell_type": "code",
   "execution_count": 24,
   "id": "8a55a822-0488-4003-b60c-b7b10639e667",
   "metadata": {},
   "outputs": [],
   "source": [
    "# importing train_test_split from sklearn\n",
    "from sklearn.model_selection import train_test_split\n",
    "# splitting the data\n",
    "X_train, X_test, y_train, y_test = train_test_split(X, y, test_size = 0.01, random_state = 42)"
   ]
  },
  {
   "cell_type": "code",
   "execution_count": 25,
   "id": "9f9521d2-87a8-4d84-8f7f-5c018f377350",
   "metadata": {},
   "outputs": [
    {
     "data": {
      "text/plain": [
       "LinearRegression()"
      ]
     },
     "execution_count": 25,
     "metadata": {},
     "output_type": "execute_result"
    }
   ],
   "source": [
    "# importing module\n",
    "from sklearn.linear_model import LinearRegression\n",
    "# creating an object of LinearRegression class\n",
    "LR = LinearRegression()\n",
    "# fitting the training data\n",
    "LR.fit(X_train,y_train)"
   ]
  },
  {
   "cell_type": "code",
   "execution_count": 26,
   "id": "7c102844-312a-4c19-9944-5b87ab18a5fb",
   "metadata": {},
   "outputs": [],
   "source": [
    "y_prediction =  LR.predict(X_test)\n",
    "\n",
    "#y_prediction\n",
    "#y_test"
   ]
  },
  {
   "cell_type": "code",
   "execution_count": 27,
   "id": "f77f0aea-b4c8-4047-a556-2e0036a43750",
   "metadata": {},
   "outputs": [],
   "source": [
    "# importing r2_score module\n",
    "#from sklearn.metrics import r2_score\n",
    "#from sklearn.metrics import mean_squared_error"
   ]
  },
  {
   "cell_type": "code",
   "execution_count": 28,
   "id": "1c85c9b4-c4b6-4bb2-8bfb-f9849eed8ddc",
   "metadata": {},
   "outputs": [],
   "source": [
    "# predicting the accuracy score\n",
    "#score=r2_score(y_test,y_prediction)\n",
    "\n",
    "#print('r2 socre is ',score)\n",
    "#print('mean_sqrd_error is==',mean_squared_error(y_test,y_prediction))\n",
    "#print('root_mean_squared error of is==',np.sqrt(mean_squared_error(y_test,y_prediction)))"
   ]
  },
  {
   "cell_type": "code",
   "execution_count": null,
   "id": "9b2c6778-5132-4e12-a967-f3d8bc199a35",
   "metadata": {},
   "outputs": [],
   "source": []
  },
  {
   "cell_type": "markdown",
   "id": "36d19e25-60cc-4338-b407-06e852c84a8e",
   "metadata": {},
   "source": [
    "____________________\n",
    "create defs for midi input prediction"
   ]
  },
  {
   "cell_type": "code",
   "execution_count": 29,
   "id": "7f0beb5b-147b-41ce-bce4-2f535c1f7373",
   "metadata": {},
   "outputs": [],
   "source": [
    "#predict ocean LEVEL\n",
    "def ocean_level(midi_input):\n",
    "    \n",
    "    X = dfO_norm[['ocean heat mean', 'ocean temp mean', 'Carbon dioxide']] #train with all the data\n",
    "    y = dfO_norm['ocean level mean'] #target all the data\n",
    "    \n",
    "    inputDF = pd.DataFrame(columns = ['ocean heat mean', 'ocean temp mean', 'Carbon dioxide'])\n",
    "    inputDF.loc[0, 'ocean heat mean'] = midi_input[0][1]\n",
    "    inputDF.loc[0, 'ocean temp mean'] = midi_input[0][2]\n",
    "    inputDF.loc[0, 'Carbon dioxide'] = midi_input[0][3]\n",
    "    \n",
    "    LR.fit(X,y)\n",
    "    ocean_LEVEL =  LR.predict(inputDF)\n",
    "    \n",
    "    return ocean_LEVEL"
   ]
  },
  {
   "cell_type": "code",
   "execution_count": 30,
   "id": "65c35e19-dc81-4965-8bd2-68e19abdbf00",
   "metadata": {},
   "outputs": [],
   "source": [
    "#predict ocean HEAT\n",
    "def ocean_heat(midi_input):\n",
    "    \n",
    "    X = dfO_norm[['ocean level mean', 'ocean temp mean', 'Carbon dioxide']] #train with all the data\n",
    "    y = dfO_norm['ocean heat mean'] #target all the data\n",
    "    \n",
    "    inputDF = pd.DataFrame(columns = ['ocean level mean', 'ocean temp mean', 'Carbon dioxide'])\n",
    "    inputDF.loc[0, 'ocean level mean'] = midi_input[0][0]\n",
    "    inputDF.loc[0, 'ocean temp mean'] = midi_input[0][2]\n",
    "    inputDF.loc[0, 'Carbon dioxide'] = midi_input[0][3]\n",
    "    \n",
    "    LR.fit(X,y)\n",
    "    ocean_HEAT =  LR.predict(inputDF)\n",
    "    \n",
    "    return ocean_HEAT"
   ]
  },
  {
   "cell_type": "code",
   "execution_count": 31,
   "id": "bacf84f2-8629-4799-ae28-a455b26ccac8",
   "metadata": {},
   "outputs": [],
   "source": [
    "#predict ocean TEMP\n",
    "def ocean_temp(midi_input):\n",
    "    \n",
    "    X = dfO_norm[['ocean heat mean', 'ocean level mean', 'Carbon dioxide']] #train with all the data\n",
    "    y = dfO_norm['ocean temp mean'] #target all the data\n",
    "    \n",
    "    inputDF = pd.DataFrame(columns = ['ocean heat mean', 'ocean level mean', 'Carbon dioxide'])\n",
    "    inputDF.loc[0, 'ocean level mean'] = midi_input[0][0]\n",
    "    inputDF.loc[0, 'ocean heat mean'] = midi_input[0][1]\n",
    "    inputDF.loc[0, 'Carbon dioxide'] = midi_input[0][3]\n",
    "    \n",
    "    LR.fit(X,y)\n",
    "    ocean_TEMP =  LR.predict(inputDF)\n",
    "    \n",
    "    return ocean_TEMP"
   ]
  },
  {
   "cell_type": "code",
   "execution_count": 32,
   "id": "1f248620-67b9-48b0-b395-96b54a61fa56",
   "metadata": {},
   "outputs": [],
   "source": [
    "#predict ocean CO\n",
    "def ocean_co(midi_input):\n",
    "    \n",
    "    X = dfO_norm[['ocean heat mean', 'ocean level mean', 'ocean temp mean']] #train with all the data\n",
    "    y = dfO_norm['Carbon dioxide'] #target all the data\n",
    "    \n",
    "    inputDF = pd.DataFrame(columns = ['ocean heat mean', 'ocean level mean', 'ocean temp mean'])\n",
    "    inputDF.loc[0, 'ocean level mean'] = midi_input[0][0]\n",
    "    inputDF.loc[0, 'ocean heat mean'] = midi_input[0][1]\n",
    "    inputDF.loc[0, 'ocean temp mean'] = midi_input[0][2]\n",
    "    \n",
    "    LR.fit(X,y)\n",
    "    ocean_CO =  LR.predict(inputDF)\n",
    "    \n",
    "    return ocean_CO"
   ]
  },
  {
   "cell_type": "code",
   "execution_count": null,
   "id": "3adaf139-c246-46cb-9b78-df3ac1403f45",
   "metadata": {},
   "outputs": [],
   "source": []
  },
  {
   "cell_type": "markdown",
   "id": "5e57feb1-721e-4500-b408-ef4bf5b74f90",
   "metadata": {},
   "source": [
    "--------------------------------------------------------------------------------------\n",
    "Send an OSC to SuperCollider"
   ]
  },
  {
   "cell_type": "code",
   "execution_count": 33,
   "id": "031e5834-8654-4ce3-960c-afc817f165b9",
   "metadata": {},
   "outputs": [],
   "source": [
    "import socket\n",
    "hostname = socket.gethostname()\n",
    "local_ip = socket.gethostbyname(hostname)"
   ]
  },
  {
   "cell_type": "code",
   "execution_count": 34,
   "id": "dd37fe46-e451-47da-b394-a92705c8b495",
   "metadata": {},
   "outputs": [
    {
     "data": {
      "text/plain": [
       "'127.0.0.1'"
      ]
     },
     "execution_count": 34,
     "metadata": {},
     "output_type": "execute_result"
    }
   ],
   "source": [
    "local_ip"
   ]
  },
  {
   "cell_type": "code",
   "execution_count": 35,
   "id": "38265e3b-eb7a-46b3-8b94-1ae52714018c",
   "metadata": {},
   "outputs": [
    {
     "name": "stdout",
     "output_type": "stream",
     "text": [
      "Requirement already satisfied: python-osc in c:\\users\\migue\\anaconda3\\lib\\site-packages (1.8.0)Note: you may need to restart the kernel to use updated packages.\n",
      "\n"
     ]
    }
   ],
   "source": [
    "pip install python-osc"
   ]
  },
  {
   "cell_type": "code",
   "execution_count": 36,
   "id": "8cc37a0e-23a3-41ae-90a9-9790cd44d8f7",
   "metadata": {},
   "outputs": [],
   "source": [
    "from pythonosc.udp_client import SimpleUDPClient"
   ]
  },
  {
   "cell_type": "code",
   "execution_count": 37,
   "id": "fce6c255-7b3f-4365-b85d-69268da8f16c",
   "metadata": {},
   "outputs": [],
   "source": [
    "#python IP and OSc port\n"
   ]
  },
  {
   "cell_type": "code",
   "execution_count": 38,
   "id": "c968d989-86d3-46f2-84ad-965212e6aeca",
   "metadata": {},
   "outputs": [],
   "source": [
    "ip = \"127.0.0.1\" #default IP\n",
    "port = 57120 #SuperCollider port\n",
    "client = SimpleUDPClient(ip, port)  #Create client"
   ]
  },
  {
   "cell_type": "code",
   "execution_count": 39,
   "id": "4b8e28a8-a6e4-46cb-a97a-969b4a175d18",
   "metadata": {},
   "outputs": [],
   "source": [
    "#client.send_message(\"sea level\", y_prediction)   # Send message"
   ]
  },
  {
   "cell_type": "markdown",
   "id": "8797b371-376e-4d42-b318-ee537962a727",
   "metadata": {},
   "source": [
    "_____________________________________________\n",
    "setting MIDI"
   ]
  },
  {
   "cell_type": "code",
   "execution_count": 40,
   "id": "7da989f5-c398-4038-8139-549c4cdea99b",
   "metadata": {},
   "outputs": [],
   "source": [
    "#pip install pygame"
   ]
  },
  {
   "cell_type": "code",
   "execution_count": 41,
   "id": "f2745a8c-a60b-4b5b-ac45-d23a3094d5e2",
   "metadata": {},
   "outputs": [],
   "source": [
    "#import pygame\n",
    "#from pygame.locals import *\n",
    "#from pygame import midi"
   ]
  },
  {
   "cell_type": "code",
   "execution_count": 42,
   "id": "90233365-6b8c-4749-8a4b-a94f089e436b",
   "metadata": {},
   "outputs": [],
   "source": [
    "#pygame.midi.init()\n",
    "#pygame.midi.get_init()"
   ]
  },
  {
   "cell_type": "markdown",
   "id": "691b1cc5-13cb-45bd-bfd2-d862cf236683",
   "metadata": {},
   "source": [
    "_____"
   ]
  },
  {
   "cell_type": "code",
   "execution_count": 43,
   "id": "75070d30-66cb-4ab6-b124-3037d4172fa6",
   "metadata": {},
   "outputs": [],
   "source": [
    "#pip install mido"
   ]
  },
  {
   "cell_type": "code",
   "execution_count": 44,
   "id": "072eb05e-315c-4091-b7e6-e126f663cfc6",
   "metadata": {},
   "outputs": [],
   "source": [
    "import mido"
   ]
  },
  {
   "cell_type": "code",
   "execution_count": null,
   "id": "712f9f37-1686-411b-b9f5-98146c62c102",
   "metadata": {},
   "outputs": [
    {
     "name": "stdout",
     "output_type": "stream",
     "text": [
      "Fade midI: 0.0          8031496            \r"
     ]
    }
   ],
   "source": [
    "instrument = mido.get_input_names()\n",
    "new_data_ocean = []\n",
    "\n",
    "knob_level = 0\n",
    "knob_heat = 0\n",
    "knob_temp = 0\n",
    "knob_co = 0\n",
    "\n",
    "fade_underc = 0\n",
    "fade_midI = 0\n",
    "fade_midII = 0\n",
    "fade_drops = 0\n",
    "\n",
    "\n",
    "with mido.open_input(instrument[0]) as p: \n",
    "    for msg in p:\n",
    "        #print(msg, end = \"\\r\") #check type, note, value, etc...\n",
    "        \n",
    "        if msg.type == 'control_change' and msg.control == 1:\n",
    "            knob_level = msg.value/127 \n",
    "            knob_level = round(knob_level,2)\n",
    "            \n",
    "        elif msg.type == 'control_change' and msg.control == 2:\n",
    "            knob_heat = msg.value/127 \n",
    "            knob_heat = round(knob_heat,2)\n",
    "            \n",
    "        elif msg.type == 'control_change' and msg.control == 3:\n",
    "            knob_temp = msg.value/127 \n",
    "            knob_temp = round(knob_temp,2)\n",
    "            \n",
    "        elif msg.type == 'control_change' and msg.control == 4:\n",
    "            knob_co = msg.value/127 \n",
    "            knob_co = round(knob_co,2)\n",
    "            \n",
    "        elif msg.type == 'control_change' and msg.control == 5:\n",
    "            fade_underc = msg.value/127 \n",
    "            #fade_underc = round(fade_underc,2)\n",
    "            client.send_message(\"Fade underc: \", fade_underc)\n",
    "            print(f\"Fade underc: {fade_underc}          \", end = '\\r')\n",
    "            \n",
    "        elif msg.type == 'control_change' and msg.control == 6:\n",
    "            fade_midI = msg.value/127 \n",
    "            #fade_midI = round(fade_midI,2)\n",
    "            client.send_message(\"Fade midI: \", fade_midI)\n",
    "            print(f\"Fade midI: {fade_midI}          \", end = '\\r')\n",
    "            \n",
    "        elif msg.type == 'control_change' and msg.control == 7:\n",
    "            fade_midII = msg.value/127 \n",
    "            #fade_midII = round(fade_midII,2)\n",
    "            client.send_message(\"Fade midII: \", fade_midII)\n",
    "            print(f\"Fade midII: {fade_midII}          \", end = '\\r')\n",
    "            \n",
    "        elif msg.type == 'control_change' and msg.control == 8:\n",
    "            fade_drops = msg.value/127 \n",
    "            #fade_drops = round(fade_drops,2)\n",
    "            client.send_message(\"Fade drops: \", fade_drops)\n",
    "            print(f\"Fade drops: {fade_drops}          \", end = '\\r')\n",
    "            \n",
    "        elif msg.type == 'note_on' and msg.note == 40:\n",
    "            new_data_ocean.append([knob_level, knob_heat, knob_temp, knob_co])\n",
    "            \n",
    "            #predict sea level and send to SuperCollider\n",
    "            ocean_LEVEL = ocean_level(new_data_ocean)\n",
    "            client.send_message(\"Ocean Level: \", ocean_LEVEL)\n",
    "            \n",
    "            #print(new_data_ocean[0], end = '\\r')\n",
    "            print(f\"ocean level: {ocean_LEVEL}          \", end = '\\r')\n",
    "            new_data_ocean = []\n",
    "        \n",
    "        elif msg.type == 'note_on' and msg.note == 41:\n",
    "            new_data_ocean.append([knob_level, knob_heat, knob_temp, knob_co])\n",
    "            \n",
    "            #predict sea level and send to SuperCollider\n",
    "            ocean_HEAT = ocean_heat(new_data_ocean)\n",
    "            client.send_message(\"Ocean Heat: \", ocean_HEAT)\n",
    "            \n",
    "            #print(new_data_ocean[0], end = '\\r')\n",
    "            print(f\"ocean heat: {ocean_HEAT}          \", end = '\\r')\n",
    "            new_data_ocean = []\n",
    "        \n",
    "        elif msg.type == 'note_on' and msg.note == 42:\n",
    "            new_data_ocean.append([knob_level, knob_heat, knob_temp, knob_co])\n",
    "            \n",
    "            #predict sea level and send to SuperCollider\n",
    "            ocean_TEMP = ocean_temp(new_data_ocean)\n",
    "            client.send_message(\"Ocean Temperature: \", ocean_TEMP)\n",
    "            \n",
    "            #print(new_data_ocean[0], end = '\\r')\n",
    "            print(f\"ocean temp: {ocean_TEMP}          \", end = '\\r')\n",
    "            new_data_ocean = []\n",
    "        \n",
    "        elif msg.type == 'note_on' and msg.note == 43:\n",
    "            new_data_ocean.append([knob_level, knob_heat, knob_temp, knob_co])\n",
    "            \n",
    "            #predict sea level and send to SuperCollider\n",
    "            ocean_CO = ocean_co(new_data_ocean)\n",
    "            client.send_message(\"Carbon Dioxide: \", ocean_CO)\n",
    "            \n",
    "            #print(new_data_ocean[0], end = '\\r')\n",
    "            print(f\"ocean co: {ocean_CO}            \", end = '\\r')\n",
    "            new_data_ocean = []\n",
    "            \n",
    "        elif msg.type == 'note_on' and msg.note == 36:\n",
    "            #underC = 'UnderC'\n",
    "            client.send_message('UnderC', 0)\n",
    "        elif msg.type == 'note_on' and msg.note == 37:\n",
    "            #midI = 'midI'\n",
    "            client.send_message('MidI', 0)\n",
    "        elif msg.type == 'note_on' and msg.note == 38:\n",
    "            #midII = 'midII'\n",
    "            client.send_message('MidII', 0)\n",
    "        elif msg.type == 'note_on' and msg.note == 39:\n",
    "            #drops = 'drops'\n",
    "            client.send_message('Drops', 0)\n",
    "            "
   ]
  },
  {
   "cell_type": "code",
   "execution_count": null,
   "id": "21680ea6-919d-4830-bfd1-f608ef072fc0",
   "metadata": {},
   "outputs": [],
   "source": [
    "#OSCFunc.trace(true); for Supercollider !!"
   ]
  },
  {
   "cell_type": "code",
   "execution_count": null,
   "id": "df0cc133-a672-43a3-83d5-21fccdf64b66",
   "metadata": {},
   "outputs": [],
   "source": []
  },
  {
   "cell_type": "code",
   "execution_count": null,
   "id": "306d6dea-e54a-4677-9625-662bc68eef62",
   "metadata": {},
   "outputs": [],
   "source": []
  },
  {
   "cell_type": "code",
   "execution_count": null,
   "id": "a8a7144a-8b7f-4abc-89f8-8c750a89ccee",
   "metadata": {},
   "outputs": [],
   "source": []
  },
  {
   "cell_type": "code",
   "execution_count": null,
   "id": "ef28afa2-c10a-4fd0-a1e6-9b81eaf154bd",
   "metadata": {},
   "outputs": [],
   "source": []
  },
  {
   "cell_type": "code",
   "execution_count": null,
   "id": "9975e20e-25a5-436a-a870-48bd61bf5ebc",
   "metadata": {},
   "outputs": [],
   "source": []
  },
  {
   "cell_type": "code",
   "execution_count": 39,
   "id": "fa13523e-30f7-4209-9c4d-afaf5745ed84",
   "metadata": {},
   "outputs": [],
   "source": [
    "#from lpd8.lpd8 import LPD8\n",
    "#from lpd8.programs import Programs\n",
    "#from lpd8.pads import Pad, Pads\n",
    "#from lpd8.knobs import Knobs\n",
    "#from lpd8.pgm_chg import Pgm_Chg\n",
    "\n",
    "#from consummer import Consummer\n",
    "#from time import sleep\n",
    "\n",
    "#lpd8 = LPD8()\n",
    "#lpd8.start()\n",
    "\n",
    "#lpd8.set_not_sticky_knob(Programs.PGM_4, [Knobs.KNOB_1, Knobs.KNOB_2])\n",
    "\n",
    "#lpd8.set_knob_limits(Programs.PGM_1, Knobs.KNOB_1, 0, 1, is_int=False)\n",
    "#lpd8.set_knob_limits(Programs.PGM_1, Knobs.KNOB_2, 0, 1, is_int=False)\n",
    "#lpd8.set_knob_limits(Programs.PGM_1, Knobs.KNOB_3, 0, 1, is_int=False)\n",
    "#lpd8.set_knob_limits(Programs.PGM_1, Knobs.KNOB_4, 0, 1, is_int=False)\n",
    "\n",
    "#lpd8.set_pad_mode(Programs.PGM_4, [Pads.PAD_1, Pads.PAD_2], Pad.SWITCH_MODE + Pad.BLINK_MODE)\n",
    "#lpd8.set_pad_mode(Programs.PGM_4, Pads.PAD_3, Pad.SWITCH_MODE)\n",
    "#lpd8.set_pad_mode(Programs.PGM_4, Pads.PAD_4, Pad.PUSH_MODE)\n",
    "\n",
    "#lpd8.set_pad_switch_state(Programs.PGM_4, [Pads.PAD_1, Pads.PAD_3], Pad.ON)\n",
    "\n",
    "#lpd8.subscribe(consummer.ctrl_value, Programs.PGM_4, LPD8.CTRL, Knobs.ALL_KNOBS)\n",
    "#lpd8.subscribe(consummer.note_on_value, Programs.PGM_4, LPD8.NOTE_ON, Pads.ALL_PADS)\n",
    "#lpd8.subscribe(consummer.note_off_value, Programs.PGM_4, LPD8.NOTE_OFF, Pads.ALL_PADS)\n",
    "#lpd8.subscribe(consummer.pgm_change, Programs.PGM_4, LPD8.PGM_CHG, Pgm_Chg.PGM_CHG_4)\n",
    "#lpd8.subscribe(consummer.pgm_change, Programs.PGM_4, LPD8.PGM_CHG, Pgm_Chg.PGM_CHG_4)\n",
    "\n",
    "# We loop as long as test class allows it\n",
    "#while consummer.is_running():\n",
    "\n",
    "    # Every loop, we update pads status (blink, ON or OFF)\n",
    "    # This method returns True if LPD8 pad is still running, False otherwise\n",
    " #   if lpd8.pad_update():\n",
    "  #      sleep(.5)\n",
    "   # else:\n",
    "\n",
    "        # If LPD8 pad is not running anymore, we leave the loop\n",
    "    #    consummer.stop()\n",
    "\n",
    "\n"
   ]
  },
  {
   "cell_type": "code",
   "execution_count": 43,
   "id": "47835272-7ca3-40ab-a100-612b23df964f",
   "metadata": {},
   "outputs": [],
   "source": [
    "# We tidy up things and kill LPD8 process\n",
    "#lpd8.stop()"
   ]
  },
  {
   "cell_type": "code",
   "execution_count": null,
   "id": "ba35588b-5f89-46af-8852-494fe5377b90",
   "metadata": {},
   "outputs": [],
   "source": []
  },
  {
   "cell_type": "code",
   "execution_count": null,
   "id": "9f1478a6-33f2-49ec-8934-8042014ae054",
   "metadata": {},
   "outputs": [],
   "source": []
  },
  {
   "cell_type": "code",
   "execution_count": null,
   "id": "082eac97-6e38-4f77-88dd-51980bc70f02",
   "metadata": {},
   "outputs": [],
   "source": []
  },
  {
   "cell_type": "code",
   "execution_count": null,
   "id": "2e975732-b2f0-47cf-a0de-76f70e4c89ca",
   "metadata": {},
   "outputs": [],
   "source": []
  },
  {
   "cell_type": "code",
   "execution_count": null,
   "id": "8f206b18-8b01-4cea-876e-b209c9fd078a",
   "metadata": {},
   "outputs": [],
   "source": []
  },
  {
   "cell_type": "code",
   "execution_count": null,
   "id": "85fa11d6-806b-4f3c-b7a8-eee0c84c0369",
   "metadata": {},
   "outputs": [],
   "source": []
  },
  {
   "cell_type": "code",
   "execution_count": null,
   "id": "a2e4e30b-5f56-47d4-bcc6-34e25618f048",
   "metadata": {},
   "outputs": [],
   "source": []
  },
  {
   "cell_type": "code",
   "execution_count": null,
   "id": "df89c9fb-4e71-49f9-961a-a84645e5d46c",
   "metadata": {},
   "outputs": [],
   "source": []
  },
  {
   "cell_type": "code",
   "execution_count": null,
   "id": "e729bbb2-bc08-4c13-8aa6-91d804bf6260",
   "metadata": {},
   "outputs": [],
   "source": []
  },
  {
   "cell_type": "code",
   "execution_count": null,
   "id": "339a51e2-ac4a-4f04-9501-d9df62e93ee2",
   "metadata": {},
   "outputs": [],
   "source": []
  },
  {
   "cell_type": "code",
   "execution_count": null,
   "id": "1847d88c-651b-4639-b311-6d6b2552ff15",
   "metadata": {},
   "outputs": [],
   "source": []
  },
  {
   "cell_type": "code",
   "execution_count": null,
   "id": "15be425a-1bbf-411c-9da9-e08e5f2b7922",
   "metadata": {},
   "outputs": [],
   "source": []
  },
  {
   "cell_type": "code",
   "execution_count": null,
   "id": "dc326d34-493a-4483-9850-2a694611f850",
   "metadata": {},
   "outputs": [],
   "source": []
  },
  {
   "cell_type": "code",
   "execution_count": null,
   "id": "ec7d58b6-4865-4cc0-8ae3-8f2f36da6dc6",
   "metadata": {},
   "outputs": [],
   "source": []
  },
  {
   "cell_type": "code",
   "execution_count": 73,
   "id": "555e5cc0",
   "metadata": {},
   "outputs": [
    {
     "data": {
      "text/html": [
       "<div>\n",
       "<style scoped>\n",
       "    .dataframe tbody tr th:only-of-type {\n",
       "        vertical-align: middle;\n",
       "    }\n",
       "\n",
       "    .dataframe tbody tr th {\n",
       "        vertical-align: top;\n",
       "    }\n",
       "\n",
       "    .dataframe thead th {\n",
       "        text-align: right;\n",
       "    }\n",
       "</style>\n",
       "<table border=\"1\" class=\"dataframe\">\n",
       "  <thead>\n",
       "    <tr style=\"text-align: right;\">\n",
       "      <th></th>\n",
       "      <th>Year</th>\n",
       "      <th>Number Dead</th>\n",
       "      <th>Minimum Estimated Number of Missing</th>\n",
       "      <th>Number of Survivors</th>\n",
       "      <th>Number of Females</th>\n",
       "      <th>Number of Males</th>\n",
       "      <th>Number of Children</th>\n",
       "      <th>Mixed or unknown |Cause of Death</th>\n",
       "      <th>Drowning |Cause of Death</th>\n",
       "      <th>Harsh environmental conditions / lack of adequate shelter, food, water |Cause of Death</th>\n",
       "      <th>Vehicle accident / death linked to hazardous transport |Cause of Death</th>\n",
       "      <th>Violence |Cause of Death</th>\n",
       "      <th>Accidental death |Cause of Death</th>\n",
       "      <th>Sickness / lack of access to adequate healthcare |Cause of Death</th>\n",
       "    </tr>\n",
       "  </thead>\n",
       "  <tbody>\n",
       "    <tr>\n",
       "      <th>0</th>\n",
       "      <td>2014</td>\n",
       "      <td>1752.0</td>\n",
       "      <td>3566.0</td>\n",
       "      <td>6122.0</td>\n",
       "      <td>66.0</td>\n",
       "      <td>261.0</td>\n",
       "      <td>302.0</td>\n",
       "      <td>0.454248</td>\n",
       "      <td>0.294118</td>\n",
       "      <td>0.084967</td>\n",
       "      <td>0.081699</td>\n",
       "      <td>0.071895</td>\n",
       "      <td>0.009804</td>\n",
       "      <td>0.003268</td>\n",
       "    </tr>\n",
       "    <tr>\n",
       "      <th>0</th>\n",
       "      <td>2015</td>\n",
       "      <td>4077.0</td>\n",
       "      <td>2637.0</td>\n",
       "      <td>8099.0</td>\n",
       "      <td>225.0</td>\n",
       "      <td>820.0</td>\n",
       "      <td>301.0</td>\n",
       "      <td>0.284877</td>\n",
       "      <td>0.294256</td>\n",
       "      <td>0.114889</td>\n",
       "      <td>0.144197</td>\n",
       "      <td>0.097304</td>\n",
       "      <td>0.009379</td>\n",
       "      <td>0.0551</td>\n",
       "    </tr>\n",
       "    <tr>\n",
       "      <th>0</th>\n",
       "      <td>2016</td>\n",
       "      <td>4071.0</td>\n",
       "      <td>4013.0</td>\n",
       "      <td>17112.0</td>\n",
       "      <td>284.0</td>\n",
       "      <td>900.0</td>\n",
       "      <td>274.0</td>\n",
       "      <td>0.335654</td>\n",
       "      <td>0.189482</td>\n",
       "      <td>0.098995</td>\n",
       "      <td>0.147718</td>\n",
       "      <td>0.141531</td>\n",
       "      <td>0.005414</td>\n",
       "      <td>0.081206</td>\n",
       "    </tr>\n",
       "    <tr>\n",
       "      <th>0</th>\n",
       "      <td>2017</td>\n",
       "      <td>3664.0</td>\n",
       "      <td>2620.0</td>\n",
       "      <td>6888.0</td>\n",
       "      <td>535.0</td>\n",
       "      <td>1591.0</td>\n",
       "      <td>311.0</td>\n",
       "      <td>0.298375</td>\n",
       "      <td>0.237814</td>\n",
       "      <td>0.115953</td>\n",
       "      <td>0.187592</td>\n",
       "      <td>0.099705</td>\n",
       "      <td>0.003693</td>\n",
       "      <td>0.056869</td>\n",
       "    </tr>\n",
       "    <tr>\n",
       "      <th>0</th>\n",
       "      <td>2018</td>\n",
       "      <td>3176.0</td>\n",
       "      <td>1811.0</td>\n",
       "      <td>8321.0</td>\n",
       "      <td>1973.0</td>\n",
       "      <td>1760.0</td>\n",
       "      <td>360.0</td>\n",
       "      <td>0.294925</td>\n",
       "      <td>0.235224</td>\n",
       "      <td>0.084179</td>\n",
       "      <td>0.151642</td>\n",
       "      <td>0.094328</td>\n",
       "      <td>0.005373</td>\n",
       "      <td>0.134328</td>\n",
       "    </tr>\n",
       "    <tr>\n",
       "      <th>0</th>\n",
       "      <td>2019</td>\n",
       "      <td>3605.0</td>\n",
       "      <td>1777.0</td>\n",
       "      <td>4925.0</td>\n",
       "      <td>876.0</td>\n",
       "      <td>1763.0</td>\n",
       "      <td>527.0</td>\n",
       "      <td>0.330583</td>\n",
       "      <td>0.194169</td>\n",
       "      <td>0.066557</td>\n",
       "      <td>0.158416</td>\n",
       "      <td>0.09956</td>\n",
       "      <td>0.008251</td>\n",
       "      <td>0.142464</td>\n",
       "    </tr>\n",
       "    <tr>\n",
       "      <th>0</th>\n",
       "      <td>2020</td>\n",
       "      <td>2248.0</td>\n",
       "      <td>1992.0</td>\n",
       "      <td>6780.0</td>\n",
       "      <td>332.0</td>\n",
       "      <td>1545.0</td>\n",
       "      <td>157.0</td>\n",
       "      <td>0.20718</td>\n",
       "      <td>0.324607</td>\n",
       "      <td>0.1092</td>\n",
       "      <td>0.077038</td>\n",
       "      <td>0.056844</td>\n",
       "      <td>0.175019</td>\n",
       "      <td>0.050112</td>\n",
       "    </tr>\n",
       "    <tr>\n",
       "      <th>0</th>\n",
       "      <td>2021</td>\n",
       "      <td>2668.0</td>\n",
       "      <td>2405.0</td>\n",
       "      <td>8703.0</td>\n",
       "      <td>603.0</td>\n",
       "      <td>1691.0</td>\n",
       "      <td>262.0</td>\n",
       "      <td>0.158268</td>\n",
       "      <td>0.428346</td>\n",
       "      <td>0.177165</td>\n",
       "      <td>0.09685</td>\n",
       "      <td>0.080315</td>\n",
       "      <td>0.022835</td>\n",
       "      <td>0.03622</td>\n",
       "    </tr>\n",
       "  </tbody>\n",
       "</table>\n",
       "</div>"
      ],
      "text/plain": [
       "   Year  Number Dead  Minimum Estimated Number of Missing  \\\n",
       "0  2014       1752.0                               3566.0   \n",
       "0  2015       4077.0                               2637.0   \n",
       "0  2016       4071.0                               4013.0   \n",
       "0  2017       3664.0                               2620.0   \n",
       "0  2018       3176.0                               1811.0   \n",
       "0  2019       3605.0                               1777.0   \n",
       "0  2020       2248.0                               1992.0   \n",
       "0  2021       2668.0                               2405.0   \n",
       "\n",
       "   Number of Survivors  Number of Females  Number of Males  \\\n",
       "0               6122.0               66.0            261.0   \n",
       "0               8099.0              225.0            820.0   \n",
       "0              17112.0              284.0            900.0   \n",
       "0               6888.0              535.0           1591.0   \n",
       "0               8321.0             1973.0           1760.0   \n",
       "0               4925.0              876.0           1763.0   \n",
       "0               6780.0              332.0           1545.0   \n",
       "0               8703.0              603.0           1691.0   \n",
       "\n",
       "   Number of Children Mixed or unknown |Cause of Death  \\\n",
       "0               302.0                         0.454248   \n",
       "0               301.0                         0.284877   \n",
       "0               274.0                         0.335654   \n",
       "0               311.0                         0.298375   \n",
       "0               360.0                         0.294925   \n",
       "0               527.0                         0.330583   \n",
       "0               157.0                          0.20718   \n",
       "0               262.0                         0.158268   \n",
       "\n",
       "  Drowning |Cause of Death  \\\n",
       "0                 0.294118   \n",
       "0                 0.294256   \n",
       "0                 0.189482   \n",
       "0                 0.237814   \n",
       "0                 0.235224   \n",
       "0                 0.194169   \n",
       "0                 0.324607   \n",
       "0                 0.428346   \n",
       "\n",
       "  Harsh environmental conditions / lack of adequate shelter, food, water |Cause of Death  \\\n",
       "0                                           0.084967                                       \n",
       "0                                           0.114889                                       \n",
       "0                                           0.098995                                       \n",
       "0                                           0.115953                                       \n",
       "0                                           0.084179                                       \n",
       "0                                           0.066557                                       \n",
       "0                                             0.1092                                       \n",
       "0                                           0.177165                                       \n",
       "\n",
       "  Vehicle accident / death linked to hazardous transport |Cause of Death  \\\n",
       "0                                           0.081699                       \n",
       "0                                           0.144197                       \n",
       "0                                           0.147718                       \n",
       "0                                           0.187592                       \n",
       "0                                           0.151642                       \n",
       "0                                           0.158416                       \n",
       "0                                           0.077038                       \n",
       "0                                            0.09685                       \n",
       "\n",
       "  Violence |Cause of Death Accidental death |Cause of Death  \\\n",
       "0                 0.071895                         0.009804   \n",
       "0                 0.097304                         0.009379   \n",
       "0                 0.141531                         0.005414   \n",
       "0                 0.099705                         0.003693   \n",
       "0                 0.094328                         0.005373   \n",
       "0                  0.09956                         0.008251   \n",
       "0                 0.056844                         0.175019   \n",
       "0                 0.080315                         0.022835   \n",
       "\n",
       "  Sickness / lack of access to adequate healthcare |Cause of Death  \n",
       "0                                           0.003268                \n",
       "0                                             0.0551                \n",
       "0                                           0.081206                \n",
       "0                                           0.056869                \n",
       "0                                           0.134328                \n",
       "0                                           0.142464                \n",
       "0                                           0.050112                \n",
       "0                                            0.03622                "
      ]
     },
     "execution_count": 73,
     "metadata": {},
     "output_type": "execute_result"
    }
   ],
   "source": [
    "df_migration"
   ]
  },
  {
   "cell_type": "code",
   "execution_count": 108,
   "id": "19119ca5",
   "metadata": {},
   "outputs": [
    {
     "data": {
      "image/png": "[encoded data removed]",
      "text/plain": [
       "<Figure size 720x504 with 1 Axes>"
      ]
     },
     "metadata": {
      "needs_background": "light"
     },
     "output_type": "display_data"
    }
   ],
   "source": [
    "years = df_migration['Year']\n",
    "deaths = df_migration['Number Dead']\n",
    "missing = df_migration['Minimum Estimated Number of Missing']\n",
    "surviv = df_migration['Number of Survivors']\n",
    "\n",
    "fig = plt.figure(figsize =(10, 7))\n",
    "\n",
    "#plt.bar(years, deaths, color= 'black')\n",
    "#plt.bar(years, missing, color= 'red')\n",
    "#plt.bar(years, surviv, color= 'black')\n",
    "\n",
    "ax = plt.subplot(111)\n",
    "ax.bar(years-0.2, deaths, width=0.5, color='black', align='center', label = \"deaths\")\n",
    "ax.bar(years, missing, width=0.5, color='grey', align='center', label = \"missing\")\n",
    "#ax.bar(years+0.2, surviv, width=0.5, color='g', align='center', label = \"surviv\")\n",
    "\n",
    "plt.show()"
   ]
  },
  {
   "cell_type": "code",
   "execution_count": 145,
   "id": "4ee881c5-35c4-4d2c-a059-4e0863dbab71",
   "metadata": {},
   "outputs": [
    {
     "data": {
      "image/png": "[encoded data removed]",
      "text/plain": [
       "<Figure size 432x288 with 1 Axes>"
      ]
     },
     "metadata": {
      "needs_background": "light"
     },
     "output_type": "display_data"
    }
   ],
   "source": [
    "plt.plot(df_migration['Year'], df_migration['Number Dead'], color = 'black')\n",
    "plt.plot(df_migration['Year'], df_migration['Minimum Estimated Number of Missing'], color = 'red')\n",
    "#plt.plot(df_migration['Year'], df_migration['Number of Survivors'], color = 'green')\n",
    "plt.show()"
   ]
  },
  {
   "cell_type": "code",
   "execution_count": 106,
   "id": "f1240594-b5d0-4b03-9f7b-6a8313b11b68",
   "metadata": {},
   "outputs": [
    {
     "data": {
      "image/png": "[encoded data removed]",
      "text/plain": [
       "<Figure size 432x288 with 1 Axes>"
      ]
     },
     "metadata": {
      "needs_background": "light"
     },
     "output_type": "display_data"
    }
   ],
   "source": [
    "plt.plot(df_migration['Year'], df_migration['Number of Children'], color = 'green')\n",
    "plt.plot(df_migration['Year'], df_migration['Number of Females'], color = 'maroon')\n",
    "plt.plot(df_migration['Year'], df_migration['Number of Males'], color = 'purple')\n",
    "plt.show()"
   ]
  },
  {
   "cell_type": "code",
   "execution_count": 121,
   "id": "6e260330-bbe7-4987-acb3-7c4dd4d692ec",
   "metadata": {},
   "outputs": [
    {
     "data": {
      "image/png": "[encoded data removed]",
      "text/plain": [
       "<Figure size 432x288 with 1 Axes>"
      ]
     },
     "metadata": {
      "needs_background": "light"
     },
     "output_type": "display_data"
    }
   ],
   "source": [
    "plt.plot(df_migration['Year'], df_migration['Number of Survivors'], color = 'green')\n",
    "plt.show()"
   ]
  },
  {
   "cell_type": "code",
   "execution_count": 113,
   "id": "5df7e0da-d7e8-4fb4-bcde-7a87547e7a5f",
   "metadata": {},
   "outputs": [
    {
     "data": {
      "text/html": [
       "<div>\n",
       "<style scoped>\n",
       "    .dataframe tbody tr th:only-of-type {\n",
       "        vertical-align: middle;\n",
       "    }\n",
       "\n",
       "    .dataframe tbody tr th {\n",
       "        vertical-align: top;\n",
       "    }\n",
       "\n",
       "    .dataframe thead th {\n",
       "        text-align: right;\n",
       "    }\n",
       "</style>\n",
       "<table border=\"1\" class=\"dataframe\">\n",
       "  <thead>\n",
       "    <tr style=\"text-align: right;\">\n",
       "      <th></th>\n",
       "      <th>Year</th>\n",
       "      <th>Number Dead</th>\n",
       "      <th>Minimum Estimated Number of Missing</th>\n",
       "      <th>Number of Survivors</th>\n",
       "      <th>Number of Females</th>\n",
       "      <th>Number of Males</th>\n",
       "      <th>Number of Children</th>\n",
       "      <th>Mixed or unknown |Cause of Death</th>\n",
       "      <th>Drowning |Cause of Death</th>\n",
       "      <th>Harsh environmental conditions / lack of adequate shelter, food, water |Cause of Death</th>\n",
       "      <th>Vehicle accident / death linked to hazardous transport |Cause of Death</th>\n",
       "      <th>Violence |Cause of Death</th>\n",
       "      <th>Accidental death |Cause of Death</th>\n",
       "      <th>Sickness / lack of access to adequate healthcare |Cause of Death</th>\n",
       "    </tr>\n",
       "  </thead>\n",
       "  <tbody>\n",
       "    <tr>\n",
       "      <th>0</th>\n",
       "      <td>2014</td>\n",
       "      <td>0.000000</td>\n",
       "      <td>0.800089</td>\n",
       "      <td>0.098219</td>\n",
       "      <td>0.000000</td>\n",
       "      <td>0.000000</td>\n",
       "      <td>0.391892</td>\n",
       "      <td>0.454248</td>\n",
       "      <td>0.294118</td>\n",
       "      <td>0.084967</td>\n",
       "      <td>0.081699</td>\n",
       "      <td>0.071895</td>\n",
       "      <td>0.009804</td>\n",
       "      <td>0.003268</td>\n",
       "    </tr>\n",
       "    <tr>\n",
       "      <th>0</th>\n",
       "      <td>2015</td>\n",
       "      <td>1.000000</td>\n",
       "      <td>0.384615</td>\n",
       "      <td>0.260441</td>\n",
       "      <td>0.083377</td>\n",
       "      <td>0.372170</td>\n",
       "      <td>0.389189</td>\n",
       "      <td>0.284877</td>\n",
       "      <td>0.294256</td>\n",
       "      <td>0.114889</td>\n",
       "      <td>0.144197</td>\n",
       "      <td>0.097304</td>\n",
       "      <td>0.009379</td>\n",
       "      <td>0.0551</td>\n",
       "    </tr>\n",
       "    <tr>\n",
       "      <th>0</th>\n",
       "      <td>2016</td>\n",
       "      <td>0.997419</td>\n",
       "      <td>1.000000</td>\n",
       "      <td>1.000000</td>\n",
       "      <td>0.114316</td>\n",
       "      <td>0.425433</td>\n",
       "      <td>0.316216</td>\n",
       "      <td>0.335654</td>\n",
       "      <td>0.189482</td>\n",
       "      <td>0.098995</td>\n",
       "      <td>0.147718</td>\n",
       "      <td>0.141531</td>\n",
       "      <td>0.005414</td>\n",
       "      <td>0.081206</td>\n",
       "    </tr>\n",
       "    <tr>\n",
       "      <th>0</th>\n",
       "      <td>2017</td>\n",
       "      <td>0.822366</td>\n",
       "      <td>0.377013</td>\n",
       "      <td>0.161073</td>\n",
       "      <td>0.245936</td>\n",
       "      <td>0.885486</td>\n",
       "      <td>0.416216</td>\n",
       "      <td>0.298375</td>\n",
       "      <td>0.237814</td>\n",
       "      <td>0.115953</td>\n",
       "      <td>0.187592</td>\n",
       "      <td>0.099705</td>\n",
       "      <td>0.003693</td>\n",
       "      <td>0.056869</td>\n",
       "    </tr>\n",
       "    <tr>\n",
       "      <th>0</th>\n",
       "      <td>2018</td>\n",
       "      <td>0.612473</td>\n",
       "      <td>0.015206</td>\n",
       "      <td>0.278658</td>\n",
       "      <td>1.000000</td>\n",
       "      <td>0.998003</td>\n",
       "      <td>0.548649</td>\n",
       "      <td>0.294925</td>\n",
       "      <td>0.235224</td>\n",
       "      <td>0.084179</td>\n",
       "      <td>0.151642</td>\n",
       "      <td>0.094328</td>\n",
       "      <td>0.005373</td>\n",
       "      <td>0.134328</td>\n",
       "    </tr>\n",
       "    <tr>\n",
       "      <th>0</th>\n",
       "      <td>2019</td>\n",
       "      <td>0.796989</td>\n",
       "      <td>0.000000</td>\n",
       "      <td>0.000000</td>\n",
       "      <td>0.424751</td>\n",
       "      <td>1.000000</td>\n",
       "      <td>1.000000</td>\n",
       "      <td>0.330583</td>\n",
       "      <td>0.194169</td>\n",
       "      <td>0.066557</td>\n",
       "      <td>0.158416</td>\n",
       "      <td>0.09956</td>\n",
       "      <td>0.008251</td>\n",
       "      <td>0.142464</td>\n",
       "    </tr>\n",
       "    <tr>\n",
       "      <th>0</th>\n",
       "      <td>2020</td>\n",
       "      <td>0.213333</td>\n",
       "      <td>0.096154</td>\n",
       "      <td>0.152211</td>\n",
       "      <td>0.139486</td>\n",
       "      <td>0.854860</td>\n",
       "      <td>0.000000</td>\n",
       "      <td>0.20718</td>\n",
       "      <td>0.324607</td>\n",
       "      <td>0.1092</td>\n",
       "      <td>0.077038</td>\n",
       "      <td>0.056844</td>\n",
       "      <td>0.175019</td>\n",
       "      <td>0.050112</td>\n",
       "    </tr>\n",
       "    <tr>\n",
       "      <th>0</th>\n",
       "      <td>2021</td>\n",
       "      <td>0.393978</td>\n",
       "      <td>0.280859</td>\n",
       "      <td>0.310002</td>\n",
       "      <td>0.281594</td>\n",
       "      <td>0.952064</td>\n",
       "      <td>0.283784</td>\n",
       "      <td>0.158268</td>\n",
       "      <td>0.428346</td>\n",
       "      <td>0.177165</td>\n",
       "      <td>0.09685</td>\n",
       "      <td>0.080315</td>\n",
       "      <td>0.022835</td>\n",
       "      <td>0.03622</td>\n",
       "    </tr>\n",
       "  </tbody>\n",
       "</table>\n",
       "</div>"
      ],
      "text/plain": [
       "   Year  Number Dead  Minimum Estimated Number of Missing  \\\n",
       "0  2014     0.000000                             0.800089   \n",
       "0  2015     1.000000                             0.384615   \n",
       "0  2016     0.997419                             1.000000   \n",
       "0  2017     0.822366                             0.377013   \n",
       "0  2018     0.612473                             0.015206   \n",
       "0  2019     0.796989                             0.000000   \n",
       "0  2020     0.213333                             0.096154   \n",
       "0  2021     0.393978                             0.280859   \n",
       "\n",
       "   Number of Survivors  Number of Females  Number of Males  \\\n",
       "0             0.098219           0.000000         0.000000   \n",
       "0             0.260441           0.083377         0.372170   \n",
       "0             1.000000           0.114316         0.425433   \n",
       "0             0.161073           0.245936         0.885486   \n",
       "0             0.278658           1.000000         0.998003   \n",
       "0             0.000000           0.424751         1.000000   \n",
       "0             0.152211           0.139486         0.854860   \n",
       "0             0.310002           0.281594         0.952064   \n",
       "\n",
       "   Number of Children Mixed or unknown |Cause of Death  \\\n",
       "0            0.391892                         0.454248   \n",
       "0            0.389189                         0.284877   \n",
       "0            0.316216                         0.335654   \n",
       "0            0.416216                         0.298375   \n",
       "0            0.548649                         0.294925   \n",
       "0            1.000000                         0.330583   \n",
       "0            0.000000                          0.20718   \n",
       "0            0.283784                         0.158268   \n",
       "\n",
       "  Drowning |Cause of Death  \\\n",
       "0                 0.294118   \n",
       "0                 0.294256   \n",
       "0                 0.189482   \n",
       "0                 0.237814   \n",
       "0                 0.235224   \n",
       "0                 0.194169   \n",
       "0                 0.324607   \n",
       "0                 0.428346   \n",
       "\n",
       "  Harsh environmental conditions / lack of adequate shelter, food, water |Cause of Death  \\\n",
       "0                                           0.084967                                       \n",
       "0                                           0.114889                                       \n",
       "0                                           0.098995                                       \n",
       "0                                           0.115953                                       \n",
       "0                                           0.084179                                       \n",
       "0                                           0.066557                                       \n",
       "0                                             0.1092                                       \n",
       "0                                           0.177165                                       \n",
       "\n",
       "  Vehicle accident / death linked to hazardous transport |Cause of Death  \\\n",
       "0                                           0.081699                       \n",
       "0                                           0.144197                       \n",
       "0                                           0.147718                       \n",
       "0                                           0.187592                       \n",
       "0                                           0.151642                       \n",
       "0                                           0.158416                       \n",
       "0                                           0.077038                       \n",
       "0                                            0.09685                       \n",
       "\n",
       "  Violence |Cause of Death Accidental death |Cause of Death  \\\n",
       "0                 0.071895                         0.009804   \n",
       "0                 0.097304                         0.009379   \n",
       "0                 0.141531                         0.005414   \n",
       "0                 0.099705                         0.003693   \n",
       "0                 0.094328                         0.005373   \n",
       "0                  0.09956                         0.008251   \n",
       "0                 0.056844                         0.175019   \n",
       "0                 0.080315                         0.022835   \n",
       "\n",
       "  Sickness / lack of access to adequate healthcare |Cause of Death  \n",
       "0                                           0.003268                \n",
       "0                                             0.0551                \n",
       "0                                           0.081206                \n",
       "0                                           0.056869                \n",
       "0                                           0.134328                \n",
       "0                                           0.142464                \n",
       "0                                           0.050112                \n",
       "0                                            0.03622                "
      ]
     },
     "execution_count": 113,
     "metadata": {},
     "output_type": "execute_result"
    }
   ],
   "source": [
    "dfM_norm = df_migration.copy()\n",
    "\n",
    "# apply normalization techniques by Column 1\n",
    "columns_to_norm = list(dfM_norm.columns)\n",
    "#\n",
    "del columns_to_norm[-1]\n",
    "del columns_to_norm[-1]\n",
    "del columns_to_norm[-1]\n",
    "del columns_to_norm[-1]\n",
    "del columns_to_norm[-1]\n",
    "del columns_to_norm[-1]\n",
    "del columns_to_norm[-1]\n",
    "del columns_to_norm[0]\n",
    "\n",
    "for col in columns_to_norm:\n",
    "    dfM_norm[col] = (dfM_norm[col] - dfM_norm[col].min()) / (dfM_norm[col].max() - dfM_norm[col].min())    \n",
    "\n",
    "dfM_norm"
   ]
  },
  {
   "cell_type": "code",
   "execution_count": 141,
   "id": "51f843c7-123a-49a0-b461-1f95329323d6",
   "metadata": {},
   "outputs": [
    {
     "data": {
      "image/png": "[encoded data removed]",
      "text/plain": [
       "<Figure size 432x288 with 1 Axes>"
      ]
     },
     "metadata": {
      "needs_background": "light"
     },
     "output_type": "display_data"
    }
   ],
   "source": [
    "plt.title('Scatter plot of the Distribution of data of ...')\n",
    "plt.plot(dfM_norm['Year'], dfM_norm['Drowning |Cause of Death'], color = 'red', label = 'drown')\n",
    "plt.plot(dfM_norm['Year'], dfM_norm['Mixed or unknown |Cause of Death'], color = 'blue', label = 'mixed')\n",
    "plt.plot(dfM_norm['Year'], dfM_norm['Harsh environmental conditions / lack of adequate shelter, food, water |Cause of Death'], color = 'green', label = 'harsh')\n",
    "plt.plot(dfM_norm['Year'], dfM_norm['Vehicle accident / death linked to hazardous transport |Cause of Death'], color = 'maroon', label = 'vehicle')\n",
    "plt.plot(dfM_norm['Year'], dfM_norm['Violence |Cause of Death'], color = 'yellow', label = 'violence')\n",
    "plt.plot(dfM_norm['Year'], dfM_norm['Accidental death |Cause of Death'], color = 'black', label = 'accidental')\n",
    "plt.plot(dfM_norm['Year'], dfM_norm['Sickness / lack of access to adequate healthcare |Cause of Death'], color = 'purple', label = 'sick')\n",
    "\n",
    "plt.legend()\n",
    "plt.xlabel('number dead')\n",
    "plt.ylabel('year')\n",
    "plt.show()\n"
   ]
  },
  {
   "cell_type": "markdown",
   "id": "7d135a61-2d83-4a13-b5a1-18f7e603a898",
   "metadata": {},
   "source": [
    "Prediction (Naive, Perceptron, Linear regression)"
   ]
  },
  {
   "cell_type": "code",
   "execution_count": 142,
   "id": "c3b813e9-9c1e-4719-a0a8-98f758699af6",
   "metadata": {},
   "outputs": [],
   "source": [
    "from sklearn.linear_model import Perceptron\n",
    "from sklearn.naive_bayes import GaussianNB\n",
    "from sklearn.metrics import accuracy_score"
   ]
  },
  {
   "cell_type": "code",
   "execution_count": 143,
   "id": "4d132cae-0351-45a1-b367-45df9bebb96f",
   "metadata": {},
   "outputs": [
    {
     "data": {
      "text/html": [
       "<div>\n",
       "<style scoped>\n",
       "    .dataframe tbody tr th:only-of-type {\n",
       "        vertical-align: middle;\n",
       "    }\n",
       "\n",
       "    .dataframe tbody tr th {\n",
       "        vertical-align: top;\n",
       "    }\n",
       "\n",
       "    .dataframe thead th {\n",
       "        text-align: right;\n",
       "    }\n",
       "</style>\n",
       "<table border=\"1\" class=\"dataframe\">\n",
       "  <thead>\n",
       "    <tr style=\"text-align: right;\">\n",
       "      <th></th>\n",
       "      <th>Year</th>\n",
       "      <th>ocean heat mean</th>\n",
       "      <th>ocean level mean</th>\n",
       "      <th>ocean temp mean</th>\n",
       "      <th>Carbon dioxide</th>\n",
       "      <th>Methane</th>\n",
       "      <th>Nitrous oxide</th>\n",
       "      <th>CFC-12</th>\n",
       "      <th>CFC-11</th>\n",
       "      <th>15 other gases</th>\n",
       "    </tr>\n",
       "  </thead>\n",
       "  <tbody>\n",
       "    <tr>\n",
       "      <th>0</th>\n",
       "      <td>1979</td>\n",
       "      <td>0.035300</td>\n",
       "      <td>0.000000</td>\n",
       "      <td>0.155172</td>\n",
       "      <td>0.000000</td>\n",
       "      <td>0.000000</td>\n",
       "      <td>0.000000</td>\n",
       "      <td>0.000000</td>\n",
       "      <td>0.000000</td>\n",
       "      <td>0.000000</td>\n",
       "    </tr>\n",
       "    <tr>\n",
       "      <th>1</th>\n",
       "      <td>1980</td>\n",
       "      <td>0.099454</td>\n",
       "      <td>0.057375</td>\n",
       "      <td>0.172414</td>\n",
       "      <td>0.029552</td>\n",
       "      <td>0.063636</td>\n",
       "      <td>0.000000</td>\n",
       "      <td>0.060976</td>\n",
       "      <td>0.074074</td>\n",
       "      <td>0.030612</td>\n",
       "    </tr>\n",
       "    <tr>\n",
       "      <th>2</th>\n",
       "      <td>1981</td>\n",
       "      <td>0.109863</td>\n",
       "      <td>0.175950</td>\n",
       "      <td>0.103448</td>\n",
       "      <td>0.047664</td>\n",
       "      <td>0.127273</td>\n",
       "      <td>0.030612</td>\n",
       "      <td>0.121951</td>\n",
       "      <td>0.148148</td>\n",
       "      <td>0.051020</td>\n",
       "    </tr>\n",
       "    <tr>\n",
       "      <th>3</th>\n",
       "      <td>1982</td>\n",
       "      <td>0.042818</td>\n",
       "      <td>0.120488</td>\n",
       "      <td>0.103448</td>\n",
       "      <td>0.059104</td>\n",
       "      <td>0.181818</td>\n",
       "      <td>0.071429</td>\n",
       "      <td>0.182927</td>\n",
       "      <td>0.222222</td>\n",
       "      <td>0.071429</td>\n",
       "    </tr>\n",
       "    <tr>\n",
       "      <th>4</th>\n",
       "      <td>1983</td>\n",
       "      <td>0.000000</td>\n",
       "      <td>0.200813</td>\n",
       "      <td>0.241379</td>\n",
       "      <td>0.083889</td>\n",
       "      <td>0.209091</td>\n",
       "      <td>0.091837</td>\n",
       "      <td>0.256098</td>\n",
       "      <td>0.296296</td>\n",
       "      <td>0.102041</td>\n",
       "    </tr>\n",
       "  </tbody>\n",
       "</table>\n",
       "</div>"
      ],
      "text/plain": [
       "   Year  ocean heat mean  ocean level mean  ocean temp mean  Carbon dioxide  \\\n",
       "0  1979         0.035300          0.000000         0.155172        0.000000   \n",
       "1  1980         0.099454          0.057375         0.172414        0.029552   \n",
       "2  1981         0.109863          0.175950         0.103448        0.047664   \n",
       "3  1982         0.042818          0.120488         0.103448        0.059104   \n",
       "4  1983         0.000000          0.200813         0.241379        0.083889   \n",
       "\n",
       "    Methane  Nitrous oxide    CFC-12    CFC-11  15 other gases  \n",
       "0  0.000000       0.000000  0.000000  0.000000        0.000000  \n",
       "1  0.063636       0.000000  0.060976  0.074074        0.030612  \n",
       "2  0.127273       0.030612  0.121951  0.148148        0.051020  \n",
       "3  0.181818       0.071429  0.182927  0.222222        0.071429  \n",
       "4  0.209091       0.091837  0.256098  0.296296        0.102041  "
      ]
     },
     "execution_count": 143,
     "metadata": {},
     "output_type": "execute_result"
    }
   ],
   "source": [
    "dfO_norm.head()"
   ]
  }
 ],
 "metadata": {
  "kernelspec": {
   "display_name": "Python 3 (ipykernel)",
   "language": "python",
   "name": "python3"
  },
  "language_info": {
   "codemirror_mode": {
    "name": "ipython",
    "version": 3
   },
   "file_extension": ".py",
   "mimetype": "text/x-python",
   "name": "python",
   "nbconvert_exporter": "python",
   "pygments_lexer": "ipython3",
   "version": "3.9.7"
  }
 },
 "nbformat": 4,
 "nbformat_minor": 5
}
